{
 "cells": [
  {
   "cell_type": "markdown",
   "id": "24a299f1",
   "metadata": {},
   "source": [
    "# Problem Set 2\n",
    "This problem set is based on lectures 4,5 and 6. For a complete list of topics please \n",
    "consult page 2 of the course syllabus. Please consult the “Instructions for Problem \n",
    "Set Submissions” document under course information before submitting your \n",
    "assignment."
   ]
  },
  {
   "cell_type": "markdown",
   "id": "2bbcba19",
   "metadata": {},
   "source": [
    "# Question 1\n",
    "Consider the following Python module:\n",
    "a = 0\n",
    "def b():\n",
    " global a\n",
    " a = c(a)\n",
    "def c(a):\n",
    " return a + 2\n",
    "After importing the module into the interpreter, you execute:\n",
    ">>> b()\n",
    ">>> b()\n",
    ">>> b()\n",
    ">>> a\n",
    "?\n",
    "What value is displayed when the last expression (a) is evaluated? Explain your \n",
    "answer by indicating what happens in every executed statement"
   ]
  },
  {
   "cell_type": "code",
   "execution_count": 2,
   "id": "d07199ab",
   "metadata": {},
   "outputs": [
    {
     "data": {
      "text/plain": [
       "6"
      ]
     },
     "execution_count": 2,
     "metadata": {},
     "output_type": "execute_result"
    }
   ],
   "source": [
    "from Sample import *\n",
    "\n",
    "b()\n",
    "b()\n",
    "b()\n",
    "a"
   ]
  },
  {
   "cell_type": "markdown",
   "id": "63885b84",
   "metadata": {},
   "source": [
    "When we Run the kernel first time the value displayed is 0 since global a = 0 but after we call b() function three times it increases by 6 evrytime as the function is increment by 2 and is called 3 times so same address of a gets incremented by 6 in every call"
   ]
  },
  {
   "cell_type": "markdown",
   "id": "1a9fa417",
   "metadata": {},
   "source": [
    "# Question 2\n",
    "Function fileLength(), given to you, takes the name of a file as input and returns \n",
    "the length of the file:\n",
    ">>> fileLength('midterm.py')\n",
    "284\n",
    ">>> fileLength('idterm.py')\n",
    "Traceback (most recent call last):\n",
    "File \"<pyshell#34>\", line 1, in <module>\n",
    " fileLength('idterm.py')\n",
    "File \"/Users/me/midterm.py\", line 3, in fileLength\n",
    " infile = open(filename)\n",
    "FileNotFoundError: [Errno 2] No such file or directory: \n",
    "'idterm.py'\n",
    "As shown above, if the file cannot be found by the interpreter or if it cannot be read \n",
    "as a text file, an exception will be raised. Modify function fileLength() so that a \n",
    "friendly message is printed instead:\n",
    ">>> fileLength('midterm.py')\n",
    "358\n",
    ">>> fileLength('idterm.py')\n",
    "File idterm.py not found."
   ]
  },
  {
   "cell_type": "code",
   "execution_count": 3,
   "id": "2ae8ae0a",
   "metadata": {},
   "outputs": [
    {
     "name": "stdout",
     "output_type": "stream",
     "text": [
      "Size of file is : 5346 bytes\n",
      "File blootype.txt not found\n"
     ]
    }
   ],
   "source": [
    "import os\n",
    "\n",
    "def fileLength(file):\n",
    "    try:    \n",
    "        f = open(file, \"r\")\n",
    "        # get the cursor positioned at end\n",
    "        f.seek(0, os.SEEK_END)\n",
    "        # get the current position of cursor\n",
    "        # this will be equivalent to size of file\n",
    "        print(\"Size of file is :\", f.tell(), \"bytes\")\n",
    "    except FileNotFoundError:\n",
    "        print(\"File \"+ file +\" not found\")\n",
    "        \n",
    "fileLength(\"words.txt\")\n",
    "fileLength(\"blootype.txt\")\n"
   ]
  },
  {
   "cell_type": "markdown",
   "id": "87179f3d",
   "metadata": {},
   "source": [
    "# Question 3\n",
    "Write a class named Marsupial that can be used as shown below:\n",
    ">>> m = Marsupial()\n",
    ">>> m.put_in_pouch('doll')\n",
    ">>> m.put_in_pouch('firetruck')\n",
    ">>> m.put_in_pouch('kitten')\n",
    ">>> m.pouch_contents()\n",
    "['doll', 'firetruck', 'kitten']\n",
    " BDAT 1004 – Data Programming \n",
    "Page 3 of 7\n",
    "F2021\n",
    "BDAT 1004 Computer Studies\n",
    "Now write a class named Kangaroo as a subclass of Marsupial that inherits all the \n",
    "attributes of Marsupial and also:\n",
    "a. extends the Marsupial __init__ constructor to take, as input, the \n",
    "coordinates x and y of the Kangaroo object,\n",
    "b. supports method jump that takes number values dx and dy as input and \n",
    "moves the kangaroo by dx units along the x-axis and by dy units along the y\u0002axis, and\n",
    "c. overloads the __str__ operator so it behaves as shown below.\n",
    ">>> k = Kangaroo(0,0)\n",
    ">>> print(k)\n",
    "I am a Kangaroo located at coordinates (0,0)\n",
    ">>> k.put_in_pouch('doll')\n",
    ">>> k.put_in_pouch('firetruck')\n",
    ">>> k.put_in_pouch('kitten')\n",
    ">>> k.pouch_contents()\n",
    "['doll', 'firetruck', 'kitten']\n",
    ">>> k.jump(1,0)\n",
    ">>> k.jump(1,0)\n",
    ">>> k.jump(1,0)\n",
    ">>> print(k)\n",
    "I am a Kangaroo located at coordinates (3,0)"
   ]
  },
  {
   "cell_type": "code",
   "execution_count": 4,
   "id": "5ee72912",
   "metadata": {},
   "outputs": [
    {
     "name": "stdout",
     "output_type": "stream",
     "text": [
      "['doll', 'firetruck', 'kitten']\n",
      "I am a Kangaroo located at coordinates(0,0)\n",
      "['doll', 'firetruck', 'kitten']\n",
      "I am a Kangaroo located at coordinates(3,0)\n"
     ]
    }
   ],
   "source": [
    "class Marsupial:\n",
    "  def __init__(self):\n",
    "    self.pouch = []\n",
    "  \n",
    "  def put_in_pouch(self, word):\n",
    "    self.pouch.append(word)\n",
    "  \n",
    "  def pouch_contents(self):\n",
    "  \tprint(self.pouch)\n",
    "\n",
    "m = Marsupial()\n",
    "m.put_in_pouch('doll')\n",
    "m.put_in_pouch('firetruck')\n",
    "m.put_in_pouch('kitten')\n",
    "m.pouch_contents()\n",
    "\n",
    "class Kangaroo(Marsupial):\n",
    "  def __init__(self,x,y):\n",
    "    self.x = x\n",
    "    self.y = y\n",
    "    super().__init__()    \n",
    "\n",
    "  def jump(self,dx, dy):\n",
    "    self.x+=dx\n",
    "    self.y+=dy\n",
    "\n",
    "  def __str__(self):\n",
    "    return(\"I am a Kangaroo located at coordinates(%s,%s)\"  %  (self.x, self.y ))\n",
    "\n",
    "  \n",
    "    \n",
    "k = Kangaroo(0,0)\n",
    "print(k)\n",
    "\n",
    "k.put_in_pouch('doll')\n",
    "k.put_in_pouch('firetruck')\n",
    "k.put_in_pouch('kitten')\n",
    "k.pouch_contents()\n",
    "\n",
    "k.jump(1,0)\n",
    "k.jump(1,0)\n",
    "k.jump(1,0)\n",
    "print(k)"
   ]
  },
  {
   "cell_type": "markdown",
   "id": "cfd66c6d",
   "metadata": {},
   "source": [
    "# Question 4\n",
    "Write function collatz() that takes a positive integer x as input and prints the \n",
    "Collatz sequence starting at x. A Collatz sequence is obtained by repeatedly applying \n",
    "this rule to the previous number x in the sequence:\n",
    "x = {\n",
    "𝑥/2 𝑖𝑓 𝑥 𝑖𝑠 𝑒𝑣𝑒𝑛\n",
    "3𝑥 + 1 𝑖𝑓 𝑥 𝑖𝑠 𝑜𝑑𝑑\n",
    "Your function should stop when the sequence gets to number 1. Your \n",
    "implementation must be recursive, without any loops.\n",
    " BDAT 1004 – Data Programming \n",
    "Page 4 of 7\n",
    "F2021\n",
    "BDAT 1004 Computer Studies\n",
    ">>> collatz(1)\n",
    "1\n",
    ">>> collatz(10)\n",
    "10\n",
    "5\n",
    "16\n",
    "8\n",
    "4\n",
    "2\n",
    "1"
   ]
  },
  {
   "cell_type": "code",
   "execution_count": 5,
   "id": "b2ac94d5",
   "metadata": {},
   "outputs": [
    {
     "name": "stdout",
     "output_type": "stream",
     "text": [
      "1\n",
      "10\n",
      "5\n",
      "16\n",
      "8\n",
      "4\n",
      "2\n",
      "1\n"
     ]
    }
   ],
   "source": [
    "def collatz(x):\n",
    "    if(x==1):\n",
    "        print(int(x))\n",
    "        return \n",
    "    \n",
    "    if(x%2==0):\n",
    "        print(int(x))\n",
    "        collatz(x/2)\n",
    "    else:\n",
    "        print(int(x))\n",
    "        collatz((3*x)+1)\n",
    "collatz(1)\n",
    "collatz(10)"
   ]
  },
  {
   "cell_type": "markdown",
   "id": "471d8dad",
   "metadata": {},
   "source": [
    "# Question 5\n",
    "Write a recursive method binary() that takes a non-negative \n",
    "integer n and prints the binary representation of integer n.\n",
    ">>> binary(0)\n",
    "0\n",
    ">>> binary(1)\n",
    "1\n",
    ">>> binary(3)\n",
    "11\n",
    ">>> binary(9)\n",
    "1001"
   ]
  },
  {
   "cell_type": "code",
   "execution_count": 8,
   "id": "e56d85d5",
   "metadata": {},
   "outputs": [
    {
     "name": "stdout",
     "output_type": "stream",
     "text": [
      "0\n",
      "1\n",
      "11\n",
      "1001"
     ]
    }
   ],
   "source": [
    "def binary(num):\n",
    "    if(num>=2):\n",
    "        binary(num//2)\n",
    "    # printing remainder from each function call\n",
    "    print(num%2,end = '')\n",
    "binary(0)\n",
    "print()\n",
    "binary(1)\n",
    "print()\n",
    "binary(3)\n",
    "print()\n",
    "binary(9)"
   ]
  },
  {
   "cell_type": "markdown",
   "id": "f4ff03a6",
   "metadata": {},
   "source": [
    "# Question 6\n",
    "Implement a class named HeadingParser that can be used to parse an HTML \n",
    "document, and retrieve and print all the headings in the document. You should \n",
    "implement your class as a subclass of HTMLParser, defined in Standard Library \n",
    "module html.parser. When fed a string containing HTML code, your class should \n",
    "print the headings, one per line and in the order in which they appear in the \n",
    "document. Each heading should be indented as follows: an h1 heading should have \n",
    " BDAT 1004 – Data Programming \n",
    "Page 5 of 7\n",
    "F2021\n",
    "BDAT 1004 Computer Studies\n",
    "indentation 0, and h2 heading should have indentation 1, etc. Test your \n",
    "implementation using w3c.html.\n",
    ">>> infile = open('w3c.html')\n",
    ">>> content = infile.read()\n",
    ">>> infile.close()\n",
    ">>> hp = HeadingParser()\n",
    ">>> hp.feed(content)\n",
    "W3C Mission\n",
    "Principles"
   ]
  },
  {
   "cell_type": "code",
   "execution_count": 9,
   "id": "b8da7bb1",
   "metadata": {},
   "outputs": [
    {
     "name": "stdout",
     "output_type": "stream",
     "text": [
      "W3C Mission\n",
      "\n",
      "\n",
      "\n",
      "The W3C mission is to lead the World Wide Web to its full potential\n",
      "\n",
      "by developing protocols and guidelines that ensure the long-term growth of the Web.\n",
      "\n",
      "\n",
      "\n",
      "\tPrinciples\n",
      "\n",
      "\n",
      "\n",
      "\n",
      "Web for All\n",
      "\n",
      "\n",
      "Web on Everything\n",
      "\n",
      "\n",
      "\n",
      "See the complete \n",
      "W3C Mission document\n",
      ".\n",
      "\n",
      "\n",
      "\n"
     ]
    }
   ],
   "source": [
    "from html.parser import HTMLParser\n",
    "\n",
    "class HeadParser(HTMLParser):\n",
    "    def __init__(self):\n",
    "        HTMLParser.__init__(self)\n",
    "        self.firsttag = None\n",
    "        self.inLink = False\n",
    "        \n",
    "\n",
    "    def handle_starttag(self, tag, attributes):\n",
    "        if tag in ['h1', 'h2', 'h3', 'h4', 'h5', 'h6']:\n",
    "            if(tag=='h1'):\n",
    "                print(\"\",end='')\n",
    "                self.firsttag = tag\n",
    "                self.inLink = True\n",
    "            elif(tag=='h2'):\n",
    "                print(\"\\t\",end='')\n",
    "                self.firsttag = tag\n",
    "                self.inLink = True\n",
    "            elif(tag=='h3'):\n",
    "                print(\"\\t\\t\",end='')\n",
    "                self.firsttag = tag\n",
    "                self.inLink = True\n",
    "            elif(tag=='h4'):\n",
    "                print(\"\\t\\t\\t\",end='')\n",
    "                self.firsttag = tag\n",
    "                self.inLink = True\n",
    "            elif(tag=='h5'):\n",
    "                print(\"\\t\\t\\t\\t\",end='')\n",
    "                self.firsttag = tag\n",
    "                self.inLink = True\n",
    "            elif(tag=='h6'):\n",
    "                print(\"\\t\\t\\t\\t\\t\",end='')\n",
    "                self.firsttag = tag\n",
    "                self.inLink = True\n",
    "            else:\n",
    "                self.inLink = False\n",
    "                \n",
    "    def handle_endtag(self, tag):\n",
    "        if(tag == \"h1\"):\n",
    "            self.inlink = False\n",
    "        if(tag == \"h2\"):\n",
    "            self.inlink = False\n",
    "        if(tag == \"h3\"):\n",
    "            self.inlink = False\n",
    "        if(tag == \"h4\"):\n",
    "            self.inlink = False\n",
    "        if(tag == \"h5\"):\n",
    "            self.inlink = False\n",
    "        if(tag == \"h6\"):\n",
    "            self.inlink = False\n",
    "            \n",
    "    def handle_data(self, data):\n",
    "        if(self.firsttag == 'h1' and self.inLink):\n",
    "            print(data)\n",
    "        if(self.firsttag == 'h2' and self.inLink):\n",
    "            print(data)\n",
    "\n",
    "file = open('w3c.html')\n",
    "content = file.read()\n",
    "file.close()\n",
    "head_parser = HeadParser()\n",
    "head_parser.feed(content)\n",
    "#Content help from https://stackoverflow.com/questions/16773583/python-extracting-specific-data-with-html-parser"
   ]
  },
  {
   "cell_type": "markdown",
   "id": "36aac3c8",
   "metadata": {},
   "source": [
    "# Question 7\n",
    "Implement recursive function webdir() that takes as input: a URL (as a string) and \n",
    "non-negative integers depth and indent. Your function should visit every web \n",
    "page reachable from the starting URL web page in depth clicks or less, and print \n",
    "each web page's URL. As shown below, indentation, specified by indent, should \n",
    "be used to indicate the depth of a URL.\n",
    ">>> \n",
    "webdir('http://reed.cs.depaul.edu/lperkovic/csc242/test1.html'\n",
    ", 2, 0)\n",
    "http://reed.cs.depaul.edu/lperkovic/csc242/test1.html\n",
    " http://reed.cs.depaul.edu/lperkovic/csc242/test2.html\n",
    " http://reed.cs.depaul.edu/lperkovic/csc242/test4.html\n",
    " http://reed.cs.depaul.edu/lperkovic/csc242/test3.html\n",
    " http://reed.cs.depaul.edu/lperkovic/csc242/test4.html"
   ]
  },
  {
   "cell_type": "code",
   "execution_count": 10,
   "id": "dc15f50e",
   "metadata": {},
   "outputs": [
    {
     "name": "stdout",
     "output_type": "stream",
     "text": [
      "\n",
      "\n",
      "Visiting http://reed.cs.depaul.edu/lperkovic/one.html\n",
      "\n",
      "URL                                           link      \n",
      "http://reed.cs.depaul.edu/lperkovic/one.html  http://reed.cs.depaul.edu/lperkovic/two.html\n",
      "http://reed.cs.depaul.edu/lperkovic/one.html  http://reed.cs.depaul.edu/lperkovic/three.html\n"
     ]
    }
   ],
   "source": [
    "from urllib.parse import urljoin\n",
    "from html.parser import HTMLParser\n",
    "class Collector(HTMLParser):\n",
    "    'collects hyperlink URLs into a list'\n",
    "\n",
    "    def __init__(self, url):\n",
    "        'initializes parser, the url, and a list'\n",
    "        HTMLParser.__init__(self)\n",
    "        self.url = url\n",
    "        self.links = []\n",
    "\n",
    "    \n",
    "    def handle_starttag(self, tag, attrs):\n",
    "        'collects hyperlink URLs in their absolute format'\n",
    "        if tag == 'a':\n",
    "            for attr in attrs:\n",
    "                if attr[0] == 'href':\n",
    "                    # construct absolute URL\n",
    "                    absolute = urljoin(self.url, attr[1])\n",
    "                    if absolute[:4] == 'http': # collect HTTP URLs\n",
    "                        self.links.append(absolute)\n",
    "                        \n",
    "    def getLinks(self):\n",
    "        'returns hyperlinks URLs in their absolute format'\n",
    "        return self.links\n",
    "from urllib.request import urlopen\n",
    "from urllib.parse import urljoin\n",
    "\n",
    "from html.parser import HTMLParser\n",
    "\n",
    "def analyze(url):\n",
    "    \n",
    "    print('\\n\\nVisiting', url)           # for testing\n",
    "\n",
    "    # obtain links in the web page\n",
    "    content = urlopen(url).read().decode()\n",
    "    collector = Collector(url)\n",
    "    collector.feed(content)\n",
    "    urls = collector.getLinks()          # get list of links\n",
    "\n",
    "    # print the http links found in web page\n",
    "    print('\\n{:45} {:10}'.format('URL', 'link'))\n",
    "    for link in urls:\n",
    "        print('{:45} {:10}'.format(url, link))\n",
    "\n",
    "    return urls\n",
    "visited = set() # initialize visited to an empty set\n",
    "\n",
    "def crawl2(url,depth,indent):\n",
    "    '''a recursive web crawler that calls analyze()\n",
    "       on every visited web page'''\n",
    "\n",
    "    # add url to set of visited pages\n",
    "    global visited     # warns the programmer \n",
    "    visited.add(url)\n",
    "\n",
    "    # analyze() returns a list of hyperlink URLs in web page url \n",
    "    links = analyze(url)\n",
    "    \n",
    "    if(indent==0):\n",
    "        return\n",
    "    else:\n",
    "        # recursively continue crawl from every link in links\n",
    "        for link in links:\n",
    "            # follow link only if not visited\n",
    "            if link not in visited:\n",
    "                try:\n",
    "                    crawl2(link,depth-1,indent-1)\n",
    "                except:\n",
    "                    pass\n",
    "        \n",
    "\n",
    "crawl2('http://reed.cs.depaul.edu/lperkovic/one.html',2,0)\n"
   ]
  },
  {
   "cell_type": "markdown",
   "id": "b4613552",
   "metadata": {},
   "source": [
    "# Question 8\n",
    "Write SQL queries on the below database table that return: \n",
    "a) All the temperature data.\n",
    "b) All the cities, but without repetition.\n",
    "c) All the records for India.\n",
    "d) All the Fall records.\n",
    " BDAT 1004 – Data Programming \n",
    "Page 6 of 7\n",
    "F2021\n",
    "BDAT 1004 Computer Studies\n",
    "e) The city, country, and season for which the average rainfall is between 200 \n",
    "and 400 millimeters.\n",
    "f) The city and country for which the average Fall temperature is above 20 \n",
    "degrees, in increasing temperature order.\n",
    "g) The total annual rainfall for Cairo.\n",
    "h) The total rainfall for each season.\n",
    "City Country Season Temperature Rainfall \n",
    "Mumbai India Winter 24.8 5.9 \n",
    "Mumbai India Spring 28.4 16.2 \n",
    "Mumbai India Summer 27.9 1549.4 \n",
    "Mumbai India Fall 27.6 346.0 \n",
    "London United Kingdom Winter 4.2 207.7 \n",
    "London United Kingdom Spring 8.3 169.6 \n",
    "London United Kingdom Summer 15.7 157.0 \n",
    "London United Kingdom Fall 10.4 218.5 \n",
    "Cairo Egypt Winter 13.6 16.5 \n",
    "Cairo Egypt Spring 20.7 6.5 \n",
    "Cairo Egypt Summer 27.7 0.1 \n",
    "Cairo Egypt Fall 22.2 4.5 \n"
   ]
  },
  {
   "cell_type": "code",
   "execution_count": 11,
   "id": "484b6501",
   "metadata": {},
   "outputs": [
    {
     "data": {
      "text/plain": [
       "<sqlite3.Cursor at 0x22199ca9730>"
      ]
     },
     "execution_count": 11,
     "metadata": {},
     "output_type": "execute_result"
    }
   ],
   "source": [
    "import sqlite3\n",
    "con = sqlite3.connect('wb2.db')\n",
    "cur = con.cursor()\n",
    "cur.execute(\"CREATE TABLE Wwather (City text, Country text, Season text, Temperature float, Rainfall float)\")\n",
    "record1 = (\"Mumbai\", \"India\", \"Winter\", 24.8, 5.9)\n",
    "record2= (\"Mumbai\", \"India\", \"Spring\", 28.4, 16.2) \n",
    "record3= (\"Mumbai\", \"India\",  \"Summer\", 27.9, 1549.4) \n",
    "record4= (\"Mumbai\", \"India\", \"Fall\", 27.6, 346.0) \n",
    "record5=(\"London\", \"United Kingdom\", \"Winter\", 4.2, 207.7) \n",
    "record6=(\"London\", \"United Kingdom\", \"Spring\", 8.3, 169.6) \n",
    "record7=(\"London\", \"United Kingdom\", \"Summer\", 15.7, 157.0) \n",
    "record8=(\"London\", \"United Kingdom\", \"Fall\", 10.4, 218.5)\n",
    "record9=(\"Cairo\",\"Egypt\",\"Winter\",13.6,16.5)                      \n",
    "recor10=(\"Cairo\", \"Egypt\", \"Spring\",20.7,6.5)\n",
    "record11=(\"Cairo\",\"Egypt\",\"Summer\",22.7,0.1)\n",
    "record12=(\"Cairo\",\"Egypt\",\"Fall\",22.2,4.5)\n",
    "\n",
    "cur.execute(\"INSERT INTO Wwather VALUES (?, ?, ?,?, ?)\", record1)\n",
    "cur.execute(\"INSERT INTO Wwather VALUES (?, ?, ?,?, ?)\", record2)\n",
    "cur.execute(\"INSERT INTO Wwather VALUES (?, ?, ?,?, ?)\", record3)\n",
    "cur.execute(\"INSERT INTO Wwather VALUES (?, ?, ?,?, ?)\", record4)\n",
    "cur.execute(\"INSERT INTO Wwather VALUES (?, ?, ?,?, ?)\", record5)\n",
    "cur.execute(\"INSERT INTO Wwather VALUES (?, ?, ?,?, ?)\", record6)\n",
    "cur.execute(\"INSERT INTO Wwather VALUES (?, ?, ?,?, ?)\", record7)\n",
    "cur.execute(\"INSERT INTO Wwather VALUES (?, ?, ?,?, ?)\", record8)\n",
    "cur.execute(\"INSERT INTO Wwather VALUES (?, ?, ?,?, ?)\", record9)\n",
    "cur.execute(\"INSERT INTO Wwather VALUES (?, ?, ?,?, ?)\", recor10)\n",
    "cur.execute(\"INSERT INTO Wwather VALUES (?, ?, ?,?, ?)\", record11)\n",
    "cur.execute(\"INSERT INTO Wwather VALUES (?, ?, ?,?, ?)\", record12)"
   ]
  },
  {
   "cell_type": "code",
   "execution_count": 12,
   "id": "1107b059",
   "metadata": {},
   "outputs": [
    {
     "data": {
      "text/plain": [
       "[(24.8,),\n",
       " (28.4,),\n",
       " (27.9,),\n",
       " (27.6,),\n",
       " (4.2,),\n",
       " (8.3,),\n",
       " (15.7,),\n",
       " (10.4,),\n",
       " (13.6,),\n",
       " (20.7,),\n",
       " (22.7,),\n",
       " (22.2,)]"
      ]
     },
     "execution_count": 12,
     "metadata": {},
     "output_type": "execute_result"
    }
   ],
   "source": [
    "cur.execute('SELECT TEMPERATURE FROM Wwather')\n",
    "cur.fetchall()"
   ]
  },
  {
   "cell_type": "code",
   "execution_count": 13,
   "id": "84d91537",
   "metadata": {},
   "outputs": [
    {
     "data": {
      "text/plain": [
       "[('Mumbai',), ('London',), ('Cairo',)]"
      ]
     },
     "execution_count": 13,
     "metadata": {},
     "output_type": "execute_result"
    }
   ],
   "source": [
    "cur.execute('SELECT DISTINCT(CITY)  FROM Wwather')\n",
    "cur.fetchall()"
   ]
  },
  {
   "cell_type": "code",
   "execution_count": 14,
   "id": "26158833",
   "metadata": {},
   "outputs": [
    {
     "data": {
      "text/plain": [
       "[('Mumbai', 'India', 'Winter', 24.8, 5.9),\n",
       " ('Mumbai', 'India', 'Spring', 28.4, 16.2),\n",
       " ('Mumbai', 'India', 'Summer', 27.9, 1549.4),\n",
       " ('Mumbai', 'India', 'Fall', 27.6, 346.0)]"
      ]
     },
     "execution_count": 14,
     "metadata": {},
     "output_type": "execute_result"
    }
   ],
   "source": [
    "cur.execute('SELECT *  FROM Wwather WHERE country = \"India\"')\n",
    "cur.fetchall()"
   ]
  },
  {
   "cell_type": "code",
   "execution_count": 15,
   "id": "5e59ea24",
   "metadata": {},
   "outputs": [
    {
     "data": {
      "text/plain": [
       "[('Mumbai', 'India', 'Fall', 27.6, 346.0),\n",
       " ('London', 'United Kingdom', 'Fall', 10.4, 218.5),\n",
       " ('Cairo', 'Egypt', 'Fall', 22.2, 4.5)]"
      ]
     },
     "execution_count": 15,
     "metadata": {},
     "output_type": "execute_result"
    }
   ],
   "source": [
    "cur.execute('SELECT *  FROM Wwather WHERE Season = \"Fall\"')\n",
    "cur.fetchall()"
   ]
  },
  {
   "cell_type": "code",
   "execution_count": 16,
   "id": "ab4cf604",
   "metadata": {},
   "outputs": [
    {
     "data": {
      "text/plain": [
       "[('Mumbai', 'India', 'Fall'),\n",
       " ('London', 'United Kingdom', 'Winter'),\n",
       " ('London', 'United Kingdom', 'Fall')]"
      ]
     },
     "execution_count": 16,
     "metadata": {},
     "output_type": "execute_result"
    }
   ],
   "source": [
    "cur.execute('SELECT city, country, season  FROM Wwather WHERE Rainfall>= 200 and Rainfall<=400')\n",
    "cur.fetchall()"
   ]
  },
  {
   "cell_type": "code",
   "execution_count": 17,
   "id": "df2007ca",
   "metadata": {},
   "outputs": [
    {
     "data": {
      "text/plain": [
       "[('Cairo', 'Egypt'), ('Mumbai', 'India')]"
      ]
     },
     "execution_count": 17,
     "metadata": {},
     "output_type": "execute_result"
    }
   ],
   "source": [
    "cur.execute('Select city, country from Wwather where season == \"Fall\" and temperature > 20 order by temperature ASC')\n",
    "cur.fetchall()"
   ]
  },
  {
   "cell_type": "code",
   "execution_count": 18,
   "id": "de6b94b7",
   "metadata": {},
   "outputs": [
    {
     "data": {
      "text/plain": [
       "[(27.6,)]"
      ]
     },
     "execution_count": 18,
     "metadata": {},
     "output_type": "execute_result"
    }
   ],
   "source": [
    "cur.execute('Select Sum(Rainfall) from Wwather where city = \"Cairo\"')\n",
    "cur.fetchall()"
   ]
  },
  {
   "cell_type": "code",
   "execution_count": 19,
   "id": "2885f973",
   "metadata": {},
   "outputs": [
    {
     "data": {
      "text/plain": [
       "[('Fall', 569.0),\n",
       " ('Spring', 192.29999999999998),\n",
       " ('Summer', 1706.5),\n",
       " ('Winter', 230.1)]"
      ]
     },
     "execution_count": 19,
     "metadata": {},
     "output_type": "execute_result"
    }
   ],
   "source": [
    "cur.execute('select Season, Sum(rainfall) from Wwather group by Season')\n",
    "cur.fetchall()"
   ]
  },
  {
   "cell_type": "markdown",
   "id": "4e92c824",
   "metadata": {},
   "source": [
    "# Question 9\n",
    ". Suppose list words is defined as follows:\n",
    ">>> words = ['The', 'quick', 'brown', 'fox', 'jumps', 'over', \n",
    "'the', 'lazy', 'dog']\n",
    "Write list comprehension expressions that use list words and generate the following \n",
    "lists:\n",
    "a) ['THE', 'QUICK', 'BROWN', 'FOX', 'JUMPS', 'OVER', 'THE', \n",
    "'LAZY', 'DOG']\n",
    "b) ['the', 'quick', 'brown', 'fox', 'jumps', 'over', 'the', \n",
    "'lazy', 'dog']\n",
    "c) [3, 5, 5, 3, 5, 4, 3, 4, 3] (the list of lengths of words in list \n",
    "words).\n",
    "d) [['THE', 'the', 3], ['QUICK', 'quick', 5], ['BROWN', \n",
    "'brown', 5], ['FOX', 'fox', 3], ['JUMPS', 'jumps', 5], \n",
    "['OVER', 'over', 4], ['THE', 'the', 3], ['LAZY', 'lazy', \n",
    "4], ['DOG', 'dog', 3]] (the list containing a list for every word of list \n",
    "words, where each list contains the word in uppercase and lowercase and the \n",
    "length of the word.)\n",
    "e) ['The', 'quick', 'brown', 'fox', 'jumps', 'over', 'the', \n",
    "'lazy', 'dog'] (the list of words in list words containing 4 or more \n",
    "characters.)"
   ]
  },
  {
   "cell_type": "code",
   "execution_count": 20,
   "id": "a9d27f24",
   "metadata": {},
   "outputs": [
    {
     "name": "stdout",
     "output_type": "stream",
     "text": [
      "['THE', 'QUICK', 'BROWN', 'FOX', 'JUMPS', 'OVER', 'THE', 'LAZY', 'DOG']\n",
      "['the', 'quick', 'brown', 'fox', 'jumps', 'over', 'the', 'lazy', 'dog']\n",
      "[3, 5, 5, 3, 5, 4, 3, 4, 3]\n",
      "[['THE', 'the', 3], ['QUICK', 'quick', 5], ['BROWN', 'brown', 5], ['FOX', 'fox', 3], ['JUMPS', 'jumps', 5], ['OVER', 'over', 4], ['THE', 'the', 3], ['LAZY', 'lazy', 4], ['DOG', 'dog', 3]]\n",
      "['quick', 'brown', 'jumps', 'over', 'lazy']\n"
     ]
    }
   ],
   "source": [
    "words = ['The', 'quick', 'brown', 'fox', 'jumps', 'over', 'the', 'lazy', 'dog']\n",
    "\n",
    "# a) Print words in Upper case\n",
    "print([val.upper() for val in words])\n",
    "\n",
    "# b) Print words in Lower case\n",
    "print([val.lower() for val in words])\n",
    "\n",
    "# c) Print length of each word\n",
    "print([len(val) for val in words])\n",
    "\n",
    "# d) Printing the list that contain the word in Uppercase and Lowercase and the length of the word\n",
    "print([[val.upper(), val.lower(), len(val)] for val in words])\n",
    "\n",
    "# e) Printing the list of words in list words containing 4 or more characters\n",
    "print([val for val in words if len(val)>=4])"
   ]
  },
  {
   "cell_type": "code",
   "execution_count": null,
   "id": "3f78291b",
   "metadata": {},
   "outputs": [],
   "source": []
  }
 ],
 "metadata": {
  "kernelspec": {
   "display_name": "Python 3 (ipykernel)",
   "language": "python",
   "name": "python3"
  },
  "language_info": {
   "codemirror_mode": {
    "name": "ipython",
    "version": 3
   },
   "file_extension": ".py",
   "mimetype": "text/x-python",
   "name": "python",
   "nbconvert_exporter": "python",
   "pygments_lexer": "ipython3",
   "version": "3.9.7"
  }
 },
 "nbformat": 4,
 "nbformat_minor": 5
}
